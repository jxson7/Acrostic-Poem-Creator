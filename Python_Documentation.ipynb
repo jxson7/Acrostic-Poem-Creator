{
  "nbformat": 4,
  "nbformat_minor": 0,
  "metadata": {
    "colab": {
      "name": "Python_Documentation.ipynb",
      "provenance": [],
      "collapsed_sections": [],
      "include_colab_link": true
    },
    "kernelspec": {
      "name": "python3",
      "display_name": "Python 3"
    },
    "language_info": {
      "name": "python"
    }
  },
  "cells": [
    {
      "cell_type": "markdown",
      "metadata": {
        "id": "view-in-github",
        "colab_type": "text"
      },
      "source": [
        "<a href=\"https://colab.research.google.com/github/jxson7/Acrostic-Poem-Creator/blob/master/Python_Documentation.ipynb\" target=\"_parent\"><img src=\"https://colab.research.google.com/assets/colab-badge.svg\" alt=\"Open In Colab\"/></a>"
      ]
    },
    {
      "cell_type": "markdown",
      "metadata": {
        "id": "abrqoGTZPjZP"
      },
      "source": [
        " # **Twitter Network Map Data Extraction, Pre-Processing and Analysis**\n",
        " **Name**: Jason Dookarun \\& Charith Avancha Fragoso   \n",
        " **Student Number**: 26017434 \\& 28004779  \n",
        " **Module Code**: CS3PP19: Programming in Python for Data Science  \n",
        " **Time Spent**: 15 Hour(s)  \n",
        " **Module Evaluation**:\n",
        "\n",
        "---\n",
        "\n"
      ]
    },
    {
      "cell_type": "markdown",
      "metadata": {
        "id": "ezLe1lswQrDr"
      },
      "source": [
        "# **Task 1: Data Gathering and Pre-Processing**"
      ]
    },
    {
      "cell_type": "markdown",
      "metadata": {
        "id": "NcAyYU8nQwiw"
      },
      "source": [
        "# **Task 2: Exploratory Data Analysis (EDA)**"
      ]
    },
    {
      "cell_type": "markdown",
      "metadata": {
        "id": "F3Sn353kQ584"
      },
      "source": [
        "# **Task 3: Network Analysis**"
      ]
    }
  ]
}